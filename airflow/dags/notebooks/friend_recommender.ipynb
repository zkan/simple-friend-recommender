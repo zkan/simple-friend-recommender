{
 "cells": [
  {
   "cell_type": "markdown",
   "metadata": {},
   "source": [
    "# Friend Recommender"
   ]
  },
  {
   "cell_type": "code",
   "execution_count": 44,
   "metadata": {},
   "outputs": [],
   "source": [
    "import math\n",
    "from typing import List\n",
    "\n",
    "import pandas as pd"
   ]
  },
  {
   "cell_type": "code",
   "execution_count": 45,
   "metadata": {
    "tags": [
     "parameters"
    ]
   },
   "outputs": [],
   "source": [
    "DAGS_FOLDER = '..'\n",
    "distance_columns = [\n",
    "    'data-engineer',\n",
    "    'data-scientist',\n",
    "    'cat',\n",
    "    'dog',\n",
    "    'data-engineer',\n",
    "    'data-scientist',\n",
    "    'cat',\n",
    "    'dog',\n",
    "    'mountain',\n",
    "    'sea',\n",
    "    'java',\n",
    "    'python',\n",
    "    'blackpink',\n",
    "    'gong-yoo',\n",
    "]"
   ]
  },
  {
   "cell_type": "markdown",
   "metadata": {},
   "source": [
    "A simple euclidean distance function. This is inspired by [Vik's article](https://www.dataquest.io/blog/k-nearest-neighbors-in-python/)."
   ]
  },
  {
   "cell_type": "code",
   "execution_count": 74,
   "metadata": {},
   "outputs": [],
   "source": [
    "def get_euclidean_distance(row: pd.Series, \n",
    "                           distance_columns: List[str], \n",
    "                           selected_person: pd.Series) -> float:\n",
    "    inner_value = 0\n",
    "    for k in distance_columns:\n",
    "        inner_value += (row[k] - selected_person[k]) ** 2\n",
    "\n",
    "    return math.sqrt(inner_value)"
   ]
  },
  {
   "cell_type": "code",
   "execution_count": 75,
   "metadata": {},
   "outputs": [],
   "source": [
    "df = pd.read_csv(f'{DAGS_FOLDER}/survey_responses_transformed.csv')"
   ]
  },
  {
   "cell_type": "code",
   "execution_count": 77,
   "metadata": {},
   "outputs": [
    {
     "name": "stdout",
     "output_type": "stream",
     "text": [
      "Hey zkan, see the list of people who like something similar to you:\n",
      "     name  distance\n",
      "0    zkan  0.000000\n",
      "4  Python  1.414214\n",
      "5    Mike  1.414214\n",
      "6    Mark  2.000000\n",
      "2     ake  2.449490\n",
      "1  Beauti  2.828427\n",
      "--------------------------------------------------\n",
      "Hey Beauti, see the list of people who like something similar to you:\n",
      "     name  distance\n",
      "1  Beauti  0.000000\n",
      "3    Milo  2.449490\n",
      "0    zkan  2.828427\n",
      "6    Mark  2.828427\n",
      "4  Python  3.162278\n",
      "5    Mike  3.162278\n",
      "--------------------------------------------------\n",
      "Hey ake, see the list of people who like something similar to you:\n",
      "     name  distance\n",
      "2     ake  0.000000\n",
      "4  Python  2.000000\n",
      "5    Mike  2.000000\n",
      "0    zkan  2.449490\n",
      "6    Mark  2.449490\n",
      "3    Milo  2.828427\n",
      "--------------------------------------------------\n",
      "Hey Milo, see the list of people who like something similar to you:\n",
      "     name  distance\n",
      "3    Milo  0.000000\n",
      "1  Beauti  2.449490\n",
      "2     ake  2.828427\n",
      "6    Mark  3.162278\n",
      "4  Python  3.464102\n",
      "5    Mike  3.464102\n",
      "--------------------------------------------------\n",
      "Hey Python, see the list of people who like something similar to you:\n",
      "     name  distance\n",
      "4  Python  0.000000\n",
      "5    Mike  0.000000\n",
      "0    zkan  1.414214\n",
      "6    Mark  1.414214\n",
      "2     ake  2.000000\n",
      "1  Beauti  3.162278\n",
      "--------------------------------------------------\n",
      "Hey Mike, see the list of people who like something similar to you:\n",
      "     name  distance\n",
      "4  Python  0.000000\n",
      "5    Mike  0.000000\n",
      "0    zkan  1.414214\n",
      "6    Mark  1.414214\n",
      "2     ake  2.000000\n",
      "1  Beauti  3.162278\n",
      "--------------------------------------------------\n",
      "Hey Mark, see the list of people who like something similar to you:\n",
      "     name  distance\n",
      "6    Mark  0.000000\n",
      "4  Python  1.414214\n",
      "5    Mike  1.414214\n",
      "0    zkan  2.000000\n",
      "2     ake  2.449490\n",
      "1  Beauti  2.828427\n",
      "--------------------------------------------------\n"
     ]
    }
   ],
   "source": [
    "for name in df.name.unique():\n",
    "    print(f'Hey {name}, see the list of people who like something similar to you:')\n",
    "    \n",
    "    selected_person = df[df['name'] == name].iloc[0]    \n",
    "\n",
    "    df['distance'] = df.apply(get_euclidean_distance, args=(distance_columns, selected_person,), axis='columns')\n",
    "    sorted_df = df[['name', 'distance']].sort_values(by='distance')[:6]\n",
    "\n",
    "    print(sorted_df)\n",
    "    print('-' * 50)"
   ]
  },
  {
   "cell_type": "code",
   "execution_count": null,
   "metadata": {},
   "outputs": [],
   "source": []
  }
 ],
 "metadata": {
  "celltoolbar": "Tags",
  "kernelspec": {
   "display_name": "Python 3",
   "language": "python",
   "name": "python3"
  },
  "language_info": {
   "codemirror_mode": {
    "name": "ipython",
    "version": 3
   },
   "file_extension": ".py",
   "mimetype": "text/x-python",
   "name": "python",
   "nbconvert_exporter": "python",
   "pygments_lexer": "ipython3",
   "version": "3.7.6"
  }
 },
 "nbformat": 4,
 "nbformat_minor": 2
}
